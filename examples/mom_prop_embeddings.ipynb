{
 "cells": [
  {
   "cell_type": "markdown",
   "metadata": {},
   "source": [
    "# Compute the Moment Propagation Embeddings.\n",
    "\n",
    "This shows how to retrieve the moment propagation (MomProp) embeddings after the input data have been preprocessed."
   ]
  },
  {
   "cell_type": "code",
   "execution_count": 4,
   "metadata": {},
   "outputs": [],
   "source": [
    "import numpy as np\n",
    "import pandas as pd\n",
    "import matplotlib.pyplot as plt\n",
    "import seaborn as sns\n",
    "\n",
    "from MomPropEmbeddings import data, utils"
   ]
  },
  {
   "cell_type": "markdown",
   "metadata": {},
   "source": [
    "Set the pickle-file containing the graph."
   ]
  },
  {
   "cell_type": "code",
   "execution_count": 5,
   "metadata": {},
   "outputs": [],
   "source": [
    "basegraph_pkl = './data/basegraph.pkl'"
   ]
  },
  {
   "cell_type": "markdown",
   "metadata": {},
   "source": [
    "## Create the MomProp Embeddings\n",
    "\n",
    "To generate MomProp embeddings, different hyperparameters must be set, that is:\n",
    "1. node_feature: the node feature to use.\n",
    "2. moments: the moments that should be used to represent a genes neighborhood. This was generated during preprocessing.\n",
    "3. n_hops: The number of k-hop neighborhoods for which the moments have been generated. This was done in the preprocessing step.\n",
    "4. n_steps: The number of network propagation steps.\n",
    "5. edge_weight: type of edge-weights to use ('std' or 'none')\n",
    "6. path_weight: type of path-weights to use ('mean' or 'max')"
   ]
  },
  {
   "cell_type": "code",
   "execution_count": 10,
   "metadata": {},
   "outputs": [],
   "source": [
    "node_feature = 'log_pvalue'\n",
    "moments = ['mean', 'std', 'skew', 'kurt']\n",
    "n_hops = 2\n",
    "n_steps = 2\n",
    "edge_weight = 'std'\n",
    "path_weight = 'max'\n",
    "\n",
    "mp_data = data.MomProp(\n",
    "    basegraph_pkl, node_feature, n_steps, n_hops=n_hops,\n",
    "    moments=moments, edge_weight=edge_weight, path_weight=path_weight\n",
    ")"
   ]
  },
  {
   "cell_type": "markdown",
   "metadata": {},
   "source": [
    "The mp_data has different attributes, that is:\n",
    "\n",
    "* X: the (n_samples, n_features) data matrix\n",
    "* y: the node-labels\n",
    "* features: the names of the features.\n",
    "* samples: the names of the samples."
   ]
  },
  {
   "cell_type": "code",
   "execution_count": 17,
   "metadata": {},
   "outputs": [
    {
     "name": "stdout",
     "output_type": "stream",
     "text": [
      "Shape of data matrix: (100, 27)\n"
     ]
    }
   ],
   "source": [
    "print(f'Shape of data matrix: {mp_data.X.shape}')"
   ]
  },
  {
   "cell_type": "markdown",
   "metadata": {},
   "source": [
    "# Downstream analysis\n",
    "\n",
    "The resulting data sets can be used for downstream analysis, such as the prediction of the class label in `mp_data.y`. In the paper, the samples were genes, and the features were the log-transformed MuSig $p$-values of the genes. We generated MomProp embeddings to predict the cancer status of the genes."
   ]
  }
 ],
 "metadata": {
  "kernelspec": {
   "display_name": "py36",
   "language": "python",
   "name": "py36"
  },
  "language_info": {
   "codemirror_mode": {
    "name": "ipython",
    "version": 3
   },
   "file_extension": ".py",
   "mimetype": "text/x-python",
   "name": "python",
   "nbconvert_exporter": "python",
   "pygments_lexer": "ipython3",
   "version": "3.7.5"
  }
 },
 "nbformat": 4,
 "nbformat_minor": 4
}
