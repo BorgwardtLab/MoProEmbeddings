{
 "cells": [
  {
   "cell_type": "markdown",
   "metadata": {},
   "source": [
    "# Compute the Moment Propagation Embeddings.\n",
    "\n",
    "This shows how to retrieve the moment propagation (MomProp) embeddings after the input data have been preprocessed."
   ]
  },
  {
   "cell_type": "code",
   "execution_count": 1,
   "metadata": {},
   "outputs": [],
   "source": [
    "import numpy as np\n",
    "import pandas as pd\n",
    "import matplotlib.pyplot as plt\n",
    "import seaborn as sns\n",
    "\n",
    "from MomPropEmbeddings import data, utils, features"
   ]
  },
  {
   "cell_type": "markdown",
   "metadata": {},
   "source": [
    "## Create the MomProp Embeddings\n",
    "\n",
    "The generation of the MomProp embeddings is a 2-step procedure, that is:\n",
    "1. Generation of Moment Embeddings,\n",
    "2. Generation of Propagation Embeddings.\n",
    "\n",
    "For this purpose, a number of hyperparameters have to be set, that is:\n",
    "* node_feature: the node feature to use.\n",
    "* moments: the moments that should be used to represent a genes neighborhood.\n",
    "* n_hops: The number of k-hop neighborhoods for which the moments have been generated. \n",
    "* n_steps: The number of network propagation steps.\n",
    "* edge_weight: type of edge-weights to use ('std' or 'none')\n",
    "* path_weight: type of path-weights to use ('mean' or 'max')"
   ]
  },
  {
   "cell_type": "code",
   "execution_count": 2,
   "metadata": {},
   "outputs": [],
   "source": [
    "node_feature = 'log_pvalue'\n",
    "moments = ['mean', 'std', 'skew', 'kurt']\n",
    "n_hops = [1, 2]\n",
    "n_steps = 2\n",
    "edge_weight = 'std'\n",
    "path_weight = 'max'"
   ]
  },
  {
   "cell_type": "code",
   "execution_count": 3,
   "metadata": {},
   "outputs": [],
   "source": [
    "# load the basegraph.\n",
    "basegraph_pkl = './data/basegraph.pkl'\n",
    "bg = utils.load_pickle(basegraph_pkl)\n",
    "\n",
    "if edge_weight is not 'none':\n",
    "    # load the shortest path weights.\n",
    "    weights = utils.load_pickle(f'./data/{edge_weight}_path_weights_{max(n_hops)}hop_{path_weight}.pkl')"
   ]
  },
  {
   "cell_type": "markdown",
   "metadata": {},
   "source": [
    "## Generation of Moment Embeddings.\n",
    "\n",
    "Generates the different embeddings of the nodes' local neighborhoods. Those are the features that will be propagated in the next steps.\n",
    "\n",
    "__Remark__: This might take a few minutes for large data sets, and we recommend to run this step separately and pickle the resulting graph data."
   ]
  },
  {
   "cell_type": "code",
   "execution_count": 4,
   "metadata": {},
   "outputs": [],
   "source": [
    "if edge_weight == 'none':\n",
    "    weight_dict = None\n",
    "else:\n",
    "    weight_dict = weights.shortest_path_weights\n",
    "\n",
    "    \n",
    "for m in moments:\n",
    "    for k in n_hops:\n",
    "        bg, _ = features.weighted_attr_kx(\n",
    "            bg, node_feature, stat=m, \n",
    "            k=k, weight=edge_weight, weight_dict=weights.shortest_path_weights\n",
    "        )\n",
    "        \n",
    "# save.\n",
    "moment_embeddings_pkl = './data/moment_embeddings.pkl'\n",
    "utils.write_pickle(bg, moment_embeddings_pkl)"
   ]
  },
  {
   "cell_type": "code",
   "execution_count": 5,
   "metadata": {},
   "outputs": [
    {
     "name": "stdout",
     "output_type": "stream",
     "text": [
      "Node attributes: ['name', 'pvalue', 'k1_neighbors', 'k1_stdWeights', 'k1_doremiWeights', 'log_pvalue', 'class_label', 'mean_k1_log_pvalue_stdWeight', 'mean_k2_log_pvalue_stdWeight', 'std_k1_log_pvalue_stdWeight', 'std_k2_log_pvalue_stdWeight', 'skew_k1_log_pvalue_stdWeight', 'skew_k2_log_pvalue_stdWeight', 'kurt_k1_log_pvalue_stdWeight', 'kurt_k2_log_pvalue_stdWeight']\n"
     ]
    }
   ],
   "source": [
    "print(f'Node attributes: {bg.vs.attributes()}')"
   ]
  },
  {
   "cell_type": "markdown",
   "metadata": {},
   "source": [
    "## Generation of Propagation embeddings."
   ]
  },
  {
   "cell_type": "code",
   "execution_count": 6,
   "metadata": {},
   "outputs": [],
   "source": [
    "mp_data = data.MomProp(\n",
    "    moment_embeddings_pkl, node_feature, n_steps, n_hops=max(n_hops),\n",
    "    moments=moments, edge_weight=edge_weight, path_weight=path_weight\n",
    ")"
   ]
  },
  {
   "cell_type": "markdown",
   "metadata": {},
   "source": [
    "The mp_data has different attributes, that is:\n",
    "\n",
    "* X: the (n_samples, n_features) data matrix\n",
    "* y: the node-labels\n",
    "* features: the names of the features.\n",
    "* samples: the names of the samples."
   ]
  },
  {
   "cell_type": "code",
   "execution_count": 7,
   "metadata": {},
   "outputs": [
    {
     "name": "stdout",
     "output_type": "stream",
     "text": [
      "Shape of data matrix: (100, 27)\n"
     ]
    }
   ],
   "source": [
    "print(f'Shape of data matrix: {mp_data.X.shape}')"
   ]
  },
  {
   "cell_type": "markdown",
   "metadata": {},
   "source": [
    "# Downstream analysis\n",
    "\n",
    "The resulting data sets can be used for downstream analysis, such as the prediction of the class label in `mp_data.y`. In the paper, the samples were genes, and the features were the log-transformed MuSig $p$-values of the genes. We generated MomProp embeddings to predict the cancer status of the genes."
   ]
  }
 ],
 "metadata": {
  "kernelspec": {
   "display_name": "py36",
   "language": "python",
   "name": "py36"
  },
  "language_info": {
   "codemirror_mode": {
    "name": "ipython",
    "version": 3
   },
   "file_extension": ".py",
   "mimetype": "text/x-python",
   "name": "python",
   "nbconvert_exporter": "python",
   "pygments_lexer": "ipython3",
   "version": "3.7.5"
  }
 },
 "nbformat": 4,
 "nbformat_minor": 4
}
