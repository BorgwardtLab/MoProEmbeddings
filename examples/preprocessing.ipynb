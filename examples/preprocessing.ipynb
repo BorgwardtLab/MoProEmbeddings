{
 "cells": [
  {
   "cell_type": "markdown",
   "metadata": {},
   "source": [
    "# Preprocessing of data\n",
    "\n",
    "This script shows how to preprocess the data, i.e. the following steps:\n",
    "\n",
    "1. Generation of an igraph-object that represents the genes\n",
    "2. Computation of the shortest path weights\n",
    "3. Generation of log-transformed node features\n",
    "4. Generation of binary node labels."
   ]
  },
  {
   "cell_type": "code",
   "execution_count": 1,
   "metadata": {},
   "outputs": [],
   "source": [
    "import numpy as np\n",
    "import pandas as pd\n",
    "import matplotlib.pyplot as plt\n",
    "import seaborn as sns\n",
    "\n",
    "from MoProEmbeddings import basegraph, utils, path_weights, features"
   ]
  },
  {
   "cell_type": "markdown",
   "metadata": {},
   "source": [
    "## Step 1: Create basegraph object\n",
    "\n",
    "Create the basegraph object from the file containing the node-features and the edges."
   ]
  },
  {
   "cell_type": "code",
   "execution_count": 2,
   "metadata": {},
   "outputs": [
    {
     "name": "stdout",
     "output_type": "stream",
     "text": [
      "Number of connected vertices: 100\n",
      "Number of edges: 500\n"
     ]
    }
   ],
   "source": [
    "edges = np.loadtxt('./data/network.txt', dtype=str)\n",
    "scores = pd.read_csv(\n",
    "    './data/gene_features.txt', \n",
    "    delim_whitespace=True,\n",
    "    index_col=0)\n",
    "\n",
    "bg = basegraph.create(edges, scores)\n",
    "\n",
    "print(f'Number of connected vertices: {len(bg.vs)}')\n",
    "print(f'Number of edges: {len(bg.es)}')"
   ]
  },
  {
   "cell_type": "markdown",
   "metadata": {},
   "source": [
    "Check the attributes of the nodes that were created for each node."
   ]
  },
  {
   "cell_type": "code",
   "execution_count": 3,
   "metadata": {},
   "outputs": [
    {
     "name": "stdout",
     "output_type": "stream",
     "text": [
      "Node attributes: ['name', 'pvalue', 'k1_neighbors', 'k1_stdWeights', 'k1_doremiWeights']\n"
     ]
    }
   ],
   "source": [
    "print(f'Node attributes: {bg.vs.attributes()}')"
   ]
  },
  {
   "cell_type": "code",
   "execution_count": 4,
   "metadata": {},
   "outputs": [
    {
     "data": {
      "image/png": "[encoded data removed]",
      "text/plain": [
       "<Figure size 432x288 with 1 Axes>"
      ]
     },
     "metadata": {
      "needs_background": "light"
     },
     "output_type": "display_data"
    }
   ],
   "source": [
    "fig, ax = plt.subplots()\n",
    "ax.set_title('Degree distribution (1-hop)')\n",
    "ax.set_xlabel('degree');\n",
    "sns.distplot(bg.degree(), bins=25);"
   ]
  },
  {
   "cell_type": "markdown",
   "metadata": {},
   "source": [
    "## Step 2: Compute the shortest path weights.\n",
    "\n",
    "Compute the shortest path weights of length-2 paths within the network, and store them.\n",
    "\n",
    "__Remark__:\n",
    "The computation of the shortest path weights might be slow (take a few hours) for large data sets and networks. Hence, we recommend to run this step separately and store the shortest path weights with pickle, as this only has to be done once.\n",
    "It can then conveniently be loaded to run step 4."
   ]
  },
  {
   "cell_type": "code",
   "execution_count": 5,
   "metadata": {},
   "outputs": [
    {
     "name": "stdout",
     "output_type": "stream",
     "text": [
      "@ vertex 0 (2 hops)\r",
      "@ vertex 1 (2 hops)\r",
      "@ vertex 2 (2 hops)\r",
      "@ vertex 3 (2 hops)\r",
      "@ vertex 4 (2 hops)\r",
      "@ vertex 5 (2 hops)\r",
      "@ vertex 6 (2 hops)\r",
      "@ vertex 7 (2 hops)\r",
      "@ vertex 8 (2 hops)\r",
      "@ vertex 9 (2 hops)\r",
      "@ vertex 10 (2 hops)\r",
      "@ vertex 11 (2 hops)\r",
      "@ vertex 12 (2 hops)\r",
      "@ vertex 13 (2 hops)\r",
      "@ vertex 14 (2 hops)\r",
      "@ vertex 15 (2 hops)\r",
      "@ vertex 16 (2 hops)\r",
      "@ vertex 17 (2 hops)\r",
      "@ vertex 18 (2 hops)\r",
      "@ vertex 19 (2 hops)\r",
      "@ vertex 20 (2 hops)\r",
      "@ vertex 21 (2 hops)\r",
      "@ vertex 22 (2 hops)\r",
      "@ vertex 23 (2 hops)\r",
      "@ vertex 24 (2 hops)\r",
      "@ vertex 25 (2 hops)\r",
      "@ vertex 26 (2 hops)\r",
      "@ vertex 27 (2 hops)\r",
      "@ vertex 28 (2 hops)\r",
      "@ vertex 29 (2 hops)\r",
      "@ vertex 30 (2 hops)\r",
      "@ vertex 31 (2 hops)\r",
      "@ vertex 32 (2 hops)\r",
      "@ vertex 33 (2 hops)\r",
      "@ vertex 34 (2 hops)\r",
      "@ vertex 35 (2 hops)\r",
      "@ vertex 36 (2 hops)\r",
      "@ vertex 37 (2 hops)\r",
      "@ vertex 38 (2 hops)\r",
      "@ vertex 39 (2 hops)\r",
      "@ vertex 40 (2 hops)\r",
      "@ vertex 41 (2 hops)\r",
      "@ vertex 42 (2 hops)\r",
      "@ vertex 43 (2 hops)\r",
      "@ vertex 44 (2 hops)\r",
      "@ vertex 45 (2 hops)\r",
      "@ vertex 46 (2 hops)\r",
      "@ vertex 47 (2 hops)\r",
      "@ vertex 48 (2 hops)\r",
      "@ vertex 49 (2 hops)\r",
      "@ vertex 50 (2 hops)\r",
      "@ vertex 51 (2 hops)\r",
      "@ vertex 52 (2 hops)\r",
      "@ vertex 53 (2 hops)\r",
      "@ vertex 54 (2 hops)\r",
      "@ vertex 55 (2 hops)\r",
      "@ vertex 56 (2 hops)\r",
      "@ vertex 57 (2 hops)\r",
      "@ vertex 58 (2 hops)\r",
      "@ vertex 59 (2 hops)\r",
      "@ vertex 60 (2 hops)\r",
      "@ vertex 61 (2 hops)\r",
      "@ vertex 62 (2 hops)\r",
      "@ vertex 63 (2 hops)\r",
      "@ vertex 64 (2 hops)\r",
      "@ vertex 65 (2 hops)\r",
      "@ vertex 66 (2 hops)\r",
      "@ vertex 67 (2 hops)\r",
      "@ vertex 68 (2 hops)\r",
      "@ vertex 69 (2 hops)\r",
      "@ vertex 70 (2 hops)\r",
      "@ vertex 71 (2 hops)\r",
      "@ vertex 72 (2 hops)\r",
      "@ vertex 73 (2 hops)\r",
      "@ vertex 74 (2 hops)\r",
      "@ vertex 75 (2 hops)\r",
      "@ vertex 76 (2 hops)\r",
      "@ vertex 77 (2 hops)\r",
      "@ vertex 78 (2 hops)\r",
      "@ vertex 79 (2 hops)\r",
      "@ vertex 80 (2 hops)\r",
      "@ vertex 81 (2 hops)\r",
      "@ vertex 82 (2 hops)\r",
      "@ vertex 83 (2 hops)\r",
      "@ vertex 84 (2 hops)\r",
      "@ vertex 85 (2 hops)\r",
      "@ vertex 86 (2 hops)\r",
      "@ vertex 87 (2 hops)\r",
      "@ vertex 88 (2 hops)\r",
      "@ vertex 89 (2 hops)\r",
      "@ vertex 90 (2 hops)\r",
      "@ vertex 91 (2 hops)\r",
      "@ vertex 92 (2 hops)\r",
      "@ vertex 93 (2 hops)\r",
      "@ vertex 94 (2 hops)\r",
      "@ vertex 95 (2 hops)\r",
      "@ vertex 96 (2 hops)\r",
      "@ vertex 97 (2 hops)\r",
      "@ vertex 98 (2 hops)\r",
      "@ vertex 99 (2 hops)\r"
     ]
    }
   ],
   "source": [
    "k = 2\n",
    "weight = 'std'\n",
    "mode = 'max'\n",
    "\n",
    "weights = path_weights.ShortestPathWeights(\n",
    "    bg, max_k=k, mode=mode, weight=weight)\n",
    "\n",
    "utils.write_pickle(weights, f'./data/{weight}_path_weights_{k}hop_{mode}.pkl')"
   ]
  },
  {
   "cell_type": "markdown",
   "metadata": {},
   "source": [
    "Plot the degree distribution for the incremental 2-hop neighborhood, i.e. excluding all nodes that are already part of the 1-hop neighborhood."
   ]
  },
  {
   "cell_type": "code",
   "execution_count": 6,
   "metadata": {},
   "outputs": [
    {
     "data": {
      "image/png": "[encoded data removed]",
      "text/plain": [
       "<Figure size 432x288 with 1 Axes>"
      ]
     },
     "metadata": {
      "needs_background": "light"
     },
     "output_type": "display_data"
    }
   ],
   "source": [
    "degree = [len(x) for x in weights.shortest_path_weights.values()]\n",
    "degree_2hop = [x-y for x, y in zip(degree, bg.degree())]\n",
    "\n",
    "fig, ax = plt.subplots()\n",
    "ax.set_title('Degree distribution (2-hop)')\n",
    "ax.set_xlabel('degree');\n",
    "sns.distplot(degree_2hop, bins=25);"
   ]
  },
  {
   "cell_type": "markdown",
   "metadata": {},
   "source": [
    "## Step 3: Compute the node-features.\n",
    "\n",
    "Log-transformation of the node features."
   ]
  },
  {
   "cell_type": "code",
   "execution_count": 7,
   "metadata": {},
   "outputs": [],
   "source": [
    "bg = features.log_transform(bg, 'pvalue')"
   ]
  },
  {
   "cell_type": "markdown",
   "metadata": {},
   "source": [
    "## Step 4: add (binary) node-labels.\n",
    "\n",
    "For every node, add a class label. E.g. for cancer genes, this could be the cancer status of each gene according to a database such as the Cancer Gene Census (CGC) from the Cosmic database (https://cancer.sanger.ac.uk/census).\n",
    "\n",
    "For the purpose of this Tutorial, we use a randomly generated, binary label."
   ]
  },
  {
   "cell_type": "code",
   "execution_count": 8,
   "metadata": {},
   "outputs": [],
   "source": [
    "labels = np.random.uniform(0, 1, len(bg.vs))\n",
    "labels = [1 if x > 0.75 else 0 for x in labels]\n",
    "bg.vs['class_label'] = labels"
   ]
  },
  {
   "cell_type": "markdown",
   "metadata": {},
   "source": [
    "Print the list of the node attributes in the igraph-object, and pickle it."
   ]
  },
  {
   "cell_type": "code",
   "execution_count": 9,
   "metadata": {},
   "outputs": [],
   "source": [
    "utils.write_pickle(bg, './data/basegraph.pkl')"
   ]
  }
 ],
 "metadata": {
  "kernelspec": {
   "display_name": "Python 3",
   "language": "python",
   "name": "python3"
  },
  "language_info": {
   "codemirror_mode": {
    "name": "ipython",
    "version": 3
   },
   "file_extension": ".py",
   "mimetype": "text/x-python",
   "name": "python",
   "nbconvert_exporter": "python",
   "pygments_lexer": "ipython3",
   "version": "3.7.7"
  }
 },
 "nbformat": 4,
 "nbformat_minor": 4
}
